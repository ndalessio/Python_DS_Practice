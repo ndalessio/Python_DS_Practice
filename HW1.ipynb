{
 "cells": [
  {
   "cell_type": "markdown",
   "metadata": {},
   "source": [
    "# Homework 1. Exploratory Data Analysis"
   ]
  },
  {
   "cell_type": "code",
   "execution_count": 22,
   "metadata": {},
   "outputs": [],
   "source": [
    "import numpy as np\n",
    "import pandas as pd \n",
    "import matplotlib.pyplot as plt\n",
    "\n",
    "import requests\n",
    "import io\n",
    "import zipfile\n",
    "import scipy.stats"
   ]
  },
  {
   "cell_type": "markdown",
   "metadata": {},
   "source": [
    "### Problem 1\n",
    "In Lecture 1, we showed a plot that provided evidence that the 2002 and 2003 Oakland As, a team that used data science, had a competitive advantage. Since, others teams have started using data science as well. Use exploratory data analysis to determine if the competitive advantage has since disappeared."
   ]
  },
  {
   "cell_type": "code",
   "execution_count": 30,
   "metadata": {
    "tags": []
   },
   "outputs": [
    {
     "output_type": "stream",
     "name": "stdout",
     "text": "['SchoolsPlayers.csv', 'SeriesPost.csv', 'Teams.csv', 'TeamsFranchises.csv', 'TeamsHalf.csv', 'AllstarFull.csv', 'Appearances.csv', 'AwardsManagers.csv', 'AwardsPlayers.csv', 'AwardsShareManagers.csv', 'AwardsSharePlayers.csv', 'Batting.csv', 'BattingPost.csv', 'Fielding.csv', 'FieldingOF.csv', 'FieldingPost.csv', 'HallOfFame.csv', 'Managers.csv', 'ManagersHalf.csv', 'Master.csv', 'Pitching.csv', 'PitchingPost.csv', 'readme2013.txt', 'Salaries.csv', 'Schools.csv']\n"
    }
   ],
   "source": [
    "#io.StringerIO tener en cuenta que en Python 3 es así\n",
    "\n",
    "zf = zipfile.ZipFile(\"lahman-csv_2014-02-14.zip\")\n",
    "print(zf.namelist())\n"
   ]
  },
  {
   "cell_type": "code",
   "execution_count": 31,
   "metadata": {},
   "outputs": [
    {
     "output_type": "execute_result",
     "data": {
      "text/plain": "'Salaries.csv'"
     },
     "metadata": {},
     "execution_count": 31
    }
   ],
   "source": [
    "tablenames = zf.namelist()\n",
    "tablenames[tablenames.index(\"Salaries.csv\")] "
   ]
  },
  {
   "cell_type": "code",
   "execution_count": 38,
   "metadata": {},
   "outputs": [
    {
     "output_type": "execute_result",
     "data": {
      "text/plain": "   yearID teamID lgID   playerID   salary\n0    1985    BAL   AL  murraed02  1472819\n1    1985    BAL   AL   lynnfr01  1090000\n2    1985    BAL   AL  ripkeca01   800000",
      "text/html": "<div>\n<style scoped>\n    .dataframe tbody tr th:only-of-type {\n        vertical-align: middle;\n    }\n\n    .dataframe tbody tr th {\n        vertical-align: top;\n    }\n\n    .dataframe thead th {\n        text-align: right;\n    }\n</style>\n<table border=\"1\" class=\"dataframe\">\n  <thead>\n    <tr style=\"text-align: right;\">\n      <th></th>\n      <th>yearID</th>\n      <th>teamID</th>\n      <th>lgID</th>\n      <th>playerID</th>\n      <th>salary</th>\n    </tr>\n  </thead>\n  <tbody>\n    <tr>\n      <th>0</th>\n      <td>1985</td>\n      <td>BAL</td>\n      <td>AL</td>\n      <td>murraed02</td>\n      <td>1472819</td>\n    </tr>\n    <tr>\n      <th>1</th>\n      <td>1985</td>\n      <td>BAL</td>\n      <td>AL</td>\n      <td>lynnfr01</td>\n      <td>1090000</td>\n    </tr>\n    <tr>\n      <th>2</th>\n      <td>1985</td>\n      <td>BAL</td>\n      <td>AL</td>\n      <td>ripkeca01</td>\n      <td>800000</td>\n    </tr>\n  </tbody>\n</table>\n</div>"
     },
     "metadata": {},
     "execution_count": 38
    }
   ],
   "source": [
    "salaries = pd.read_csv(zf.open(tablenames[tablenames.index(\"Salaries.csv\")]))\n",
    "salaries.shape[0] #Number of rows\n",
    "salaries.head(3)"
   ]
  },
  {
   "cell_type": "code",
   "execution_count": 39,
   "metadata": {},
   "outputs": [
    {
     "output_type": "execute_result",
     "data": {
      "text/plain": "   yearID teamID   W\n0    1871    PH1  21\n1    1871    CH1  19\n2    1871    BS1  20",
      "text/html": "<div>\n<style scoped>\n    .dataframe tbody tr th:only-of-type {\n        vertical-align: middle;\n    }\n\n    .dataframe tbody tr th {\n        vertical-align: top;\n    }\n\n    .dataframe thead th {\n        text-align: right;\n    }\n</style>\n<table border=\"1\" class=\"dataframe\">\n  <thead>\n    <tr style=\"text-align: right;\">\n      <th></th>\n      <th>yearID</th>\n      <th>teamID</th>\n      <th>W</th>\n    </tr>\n  </thead>\n  <tbody>\n    <tr>\n      <th>0</th>\n      <td>1871</td>\n      <td>PH1</td>\n      <td>21</td>\n    </tr>\n    <tr>\n      <th>1</th>\n      <td>1871</td>\n      <td>CH1</td>\n      <td>19</td>\n    </tr>\n    <tr>\n      <th>2</th>\n      <td>1871</td>\n      <td>BS1</td>\n      <td>20</td>\n    </tr>\n  </tbody>\n</table>\n</div>"
     },
     "metadata": {},
     "execution_count": 39
    }
   ],
   "source": [
    "teams = pd.read_csv(zf.open(tablenames[tablenames.index(\"Teams.csv\")]))\n",
    "teams = teams[['yearID', 'teamID', 'W']] #we are only interested in this rows. W is number of wins\n",
    "teams.shape[0] \n",
    "teams.head(3)\n"
   ]
  },
  {
   "cell_type": "markdown",
   "metadata": {},
   "source": [
    "Problem 1b. Summarize the Salaries DataFrame to show the total salaries for each team for each year. Show the head of the new summarized DataFrame."
   ]
  },
  {
   "cell_type": "code",
   "execution_count": 40,
   "metadata": {},
   "outputs": [
    {
     "output_type": "execute_result",
     "data": {
      "text/plain": "   yearID teamID    salary\n0    1985    ATL  14807000\n1    1985    BAL  11560712\n2    1985    BOS  10897560\n3    1985    CAL  14427894\n4    1985    CHA   9846178",
      "text/html": "<div>\n<style scoped>\n    .dataframe tbody tr th:only-of-type {\n        vertical-align: middle;\n    }\n\n    .dataframe tbody tr th {\n        vertical-align: top;\n    }\n\n    .dataframe thead th {\n        text-align: right;\n    }\n</style>\n<table border=\"1\" class=\"dataframe\">\n  <thead>\n    <tr style=\"text-align: right;\">\n      <th></th>\n      <th>yearID</th>\n      <th>teamID</th>\n      <th>salary</th>\n    </tr>\n  </thead>\n  <tbody>\n    <tr>\n      <th>0</th>\n      <td>1985</td>\n      <td>ATL</td>\n      <td>14807000</td>\n    </tr>\n    <tr>\n      <th>1</th>\n      <td>1985</td>\n      <td>BAL</td>\n      <td>11560712</td>\n    </tr>\n    <tr>\n      <th>2</th>\n      <td>1985</td>\n      <td>BOS</td>\n      <td>10897560</td>\n    </tr>\n    <tr>\n      <th>3</th>\n      <td>1985</td>\n      <td>CAL</td>\n      <td>14427894</td>\n    </tr>\n    <tr>\n      <th>4</th>\n      <td>1985</td>\n      <td>CHA</td>\n      <td>9846178</td>\n    </tr>\n  </tbody>\n</table>\n</div>"
     },
     "metadata": {},
     "execution_count": 40
    }
   ],
   "source": [
    "totalSalaries = salaries.groupby(['yearID', 'teamID'], as_index = False).sum()\n",
    "totalSalaries.head()"
   ]
  },
  {
   "cell_type": "code",
   "execution_count": null,
   "metadata": {},
   "outputs": [],
   "source": []
  }
 ],
 "metadata": {
  "language_info": {
   "codemirror_mode": {
    "name": "ipython",
    "version": 3
   },
   "file_extension": ".py",
   "mimetype": "text/x-python",
   "name": "python",
   "nbconvert_exporter": "python",
   "pygments_lexer": "ipython3",
   "version": "3.8.2-final"
  },
  "orig_nbformat": 2,
  "kernelspec": {
   "name": "python38232biteb47039ee8b34c52b187673b1558ccdd",
   "display_name": "Python 3.8.2 32-bit"
  }
 },
 "nbformat": 4,
 "nbformat_minor": 2
}